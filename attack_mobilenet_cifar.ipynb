{
 "cells": [
  {
   "cell_type": "code",
   "execution_count": 2,
   "metadata": {},
   "outputs": [],
   "source": [
    "import torch\n",
    "import torch.optim as optim\n",
    "import torch.nn as nn\n",
    "from torch.utils.data import DataLoader\n",
    "from torchvision.models import mobilenet_v2\n",
    "import pickle\n",
    "from sklearn.model_selection import train_test_split\n",
    "from helper_functions import train_or_load_and_eval_atck_model, create_eval_post_loader, create_shadow_post_train_loader, evaluate_attack_model, DatasetClassN"
   ]
  },
  {
   "cell_type": "markdown",
   "metadata": {},
   "source": [
    "Parameters"
   ]
  },
  {
   "cell_type": "code",
   "execution_count": null,
   "metadata": {},
   "outputs": [],
   "source": [
    "# Model Parameter\n",
    "model = \"mobilenetv2\"\n",
    "model_short = \"mobilenet\"\n",
    "MODEL_MODULE = mobilenet_v2\n",
    "# Dataset parameter\n",
    "dataset = \"cifar10\"\n",
    "dataset_short = \"cifar\"\n",
    "DATASET_ENUM = DatasetClassN.Cifar\n",
    "\n",
    "## Attack model training parameters\n",
    "LEARNING_R = 0.001\n",
    "EPOCHS = 3\n",
    "MULTI_WORKERS_N = 1\n",
    "\n",
    "## Datasets\n",
    "SHADOW_DATA_PATH = f\"pickle/{dataset}/{model}/shadow.p\"\n",
    "EVALUATE_DATA_PATH = f\"pickle/{dataset}/{model}/eval.p\"\n",
    "# Save Dset create for attack model training\n",
    "ATT_TRAIN_DATA_PATH = f\"pickle/{dataset}/{model}/attack_train.p\"\n",
    "## Models\n",
    "SHADOW_MODEL_PATH = f\"shadow_models/{model}_shadow_{dataset_short}_overtrained.pth\"\n",
    "TARGET_MODEL_PATH = f\"models/{model}_{dataset}.pth\"\n",
    "ATTACK_MODEL_PATH = f\"attack_models/attack_{model_short}_{dataset_short}.pth\"\n",
    "\n",
    "DEVICE=torch.device(\"cuda:0\" if torch.cuda.is_available() else \"cpu\")"
   ]
  },
  {
   "cell_type": "markdown",
   "metadata": {},
   "source": [
    "### Shadow Model"
   ]
  },
  {
   "cell_type": "markdown",
   "metadata": {},
   "source": [
    "Shadow Model"
   ]
  },
  {
   "cell_type": "code",
   "execution_count": null,
   "metadata": {},
   "outputs": [],
   "source": [
    "#load the shadow model trained in the other python script\n",
    "shadow_model = MODEL_MODULE(weights=None,num_classes=DATASET_ENUM.value).to(DEVICE) #resnet_target is the shadow model\n",
    "shadow_model.load_state_dict(torch.load(SHADOW_MODEL_PATH, map_location=DEVICE))\n",
    "pass"
   ]
  },
  {
   "cell_type": "markdown",
   "metadata": {},
   "source": [
    "Shadow dataset"
   ]
  },
  {
   "cell_type": "code",
   "execution_count": null,
   "metadata": {},
   "outputs": [],
   "source": [
    "with open(SHADOW_DATA_PATH, \"rb\") as f:\n",
    "    dataset = pickle.load(f)\n",
    "    \n",
    "shadow_memb_data, shadow_non_memb_data = train_test_split(dataset, test_size=(1-0.5),shuffle=False)\n",
    "  \n",
    "shadow_membloader = DataLoader(shadow_memb_data, batch_size=1, shuffle=False, num_workers=1)\n",
    "shadow_non_membloader =  DataLoader(shadow_non_memb_data, batch_size=1, shuffle=True, num_workers=1)\n"
   ]
  },
  {
   "cell_type": "markdown",
   "metadata": {},
   "source": [
    "### Attack Training Dataset"
   ]
  },
  {
   "cell_type": "markdown",
   "metadata": {},
   "source": [
    "Create Attack model training dataset"
   ]
  },
  {
   "cell_type": "code",
   "execution_count": null,
   "metadata": {},
   "outputs": [
    {
     "name": "stdout",
     "output_type": "stream",
     "text": [
      "Attack dataset was already established previosly, loading dataset from \"pickle/cifar10/resnet34/attack_train.p\".\n"
     ]
    }
   ],
   "source": [
    "attack_train_loader = create_shadow_post_train_loader(shadow_non_membloader, shadow_membloader, shadow_model, batch_size=64, \\\n",
    "    multi_n= MULTI_WORKERS_N, device=DEVICE, save_path=ATT_TRAIN_DATA_PATH)"
   ]
  },
  {
   "cell_type": "code",
   "execution_count": null,
   "metadata": {},
   "outputs": [
    {
     "name": "stdout",
     "output_type": "stream",
     "text": [
      "[tensor([[[ 3.9567e+00,  2.2521e+00,  1.1713e+00]],  [[ 8.7314e+00,  2.3901e+00, -1.1134e-01]],  [[ 9.1530e+00, -5.8557e-01, -9.3829e-01]],  [[ 4.0542e+00,  4.8081e-01, -2.4173e-02]],  [[ 1.1194e+01,  1.3065e+00, -2.6194e-02]],  [[ 1.1535e+01, -2.0299e-01, -1.5129e+00]],  [[ 2.5223e+00,  1.8923e+00,  9.7421e-01]],  [[ 3.9389e+00,  2.3877e+00,  1.7223e+00]],  [[ 9.7619e+00,  9.6083e-02, -1.0826e-01]],  [[ 8.4934e+00,  9.1026e-01,  1.8671e-01]],  [[ 7.3696e+00,  7.4837e-01,  4.6259e-02]],  [[ 9.0239e+00,  1.9236e+00,  1.3797e-01]],  [[ 1.7865e+00,  1.2105e+00,  1.2056e+00]],  [[ 7.3080e+00,  2.8119e+00,  1.3903e+00]],  [[ 6.9371e+00,  3.4246e+00,  2.5515e+00]],  [[ 1.6093e+01,  7.8114e-01, -2.6410e+00]],  [[ 3.5276e+00,  1.3736e+00, -1.4739e-01]],  [[ 4.4020e+00,  4.1027e-01,  1.4436e-02]],  [[ 1.1640e+01, -1.4672e-01, -3.2149e-01]],  [[ 5.5210e+00,  1.9858e+00, -4.8117e-01]],  [[ 2.5924e+00,  1.3980e+00,  2.6303e-01]],  [[ 3.6911e+00,  2.8068e-01, -1.9508e-01]],  [[ 4.2035e+00,  3.8556e+00,  1.9514e+00]],  [[ 7.6094e+00,  4.5969e+00, -6.2856e-01]],  [[ 1.3705e+01,  2.9016e+00, -3.0045e+00]],  [[ 7.9059e+00, -5.4542e-01, -9.7194e-01]],  [[ 7.9896e+00,  2.0817e+00, -7.4430e-01]],  [[ 2.2916e+00,  1.9314e+00,  7.4678e-01]],  [[ 8.7750e+00,  2.9734e+00,  1.1373e+00]],  [[ 2.7186e+00,  1.5313e+00,  1.5097e-01]],  [[ 6.1377e+00,  3.7951e+00, -2.8188e-01]],  [[ 6.9773e+00,  4.7025e+00,  1.9789e+00]],  [[ 7.2686e+00, -1.4180e-01, -1.4268e-01]],  [[ 1.4127e+01, -7.0292e-02, -4.8881e-01]],  [[ 3.1812e+00,  2.1201e+00,  1.1674e+00]],  [[ 1.2885e+01,  3.2435e+00, -2.8500e+00]],  [[ 6.5292e+00,  2.7198e+00, -1.8294e-02]],  [[ 1.0462e+01, -2.4596e+00, -3.0032e+00]],  [[ 3.1301e+00,  1.6784e+00,  1.2421e+00]],  [[ 2.9452e+00,  1.2932e+00,  7.3164e-01]],  [[ 7.3182e+00,  2.1843e+00,  6.5474e-01]],  [[ 8.5569e+00, -2.6072e-01, -1.1942e+00]],  [[ 1.2702e+01, -5.8951e-01, -1.7258e+00]],  [[ 7.3526e+00,  7.2932e-01, -2.3567e-01]],  [[ 3.6302e+00,  2.3189e+00,  7.3069e-01]],  [[ 6.9686e+00,  3.4722e+00,  3.2964e+00]],  [[ 4.2387e+00,  3.3152e+00,  2.6929e+00]],  [[ 7.4638e+00,  2.2757e+00,  2.2535e+00]],  [[ 6.3262e+00,  1.2379e+00,  1.2279e+00]],  [[ 5.1815e+00,  9.9894e-01,  4.5895e-01]],  [[ 1.0057e+01, -7.0415e-01, -2.9643e+00]],  [[ 1.5109e+01,  2.0218e+00, -2.4190e+00]],  [[ 5.3991e+00,  1.9149e+00,  1.3325e+00]],  [[ 1.3626e+01,  4.3870e-01, -1.3894e+00]],  [[ 1.1821e+01,  1.0095e+00,  5.4870e-01]],  [[ 9.9214e+00,  1.6885e+00,  5.2192e-01]],  [[ 5.9971e+00,  1.1296e+00, -4.5004e-01]],  [[ 1.2944e+01,  1.3737e+00, -1.3332e+00]],  [[ 5.1527e+00,  3.1040e+00,  2.0660e+00]],  [[ 5.1324e+00,  2.2422e+00,  5.4579e-01]],  [[ 8.1320e+00,  4.0468e+00,  2.1950e-01]],  [[ 5.5822e+00,  2.3381e+00,  1.0034e+00]],  [[ 6.7378e+00,  2.5209e+00,  4.6858e-01]],  [[ 6.6271e+00,  2.1583e+00,  7.7016e-01]]]), tensor([0, 1, 1, 1, 1, 0, 1, 0, 1, 1, 0, 0, 0, 0, 1, 1, 0, 0, 0, 0, 0, 1, 0, 0,  1, 1, 1, 0, 1, 1, 0, 0, 0, 0, 0, 1, 1, 0, 0, 0, 1, 0, 1, 1, 1, 1, 0, 1,  0, 1, 1, 0, 0, 1, 1, 1, 0, 1, 1, 0, 0, 1, 0, 0])]\n"
     ]
    }
   ],
   "source": [
    "attack_sample_iter = iter(attack_train_loader)\n",
    "print (str(next(attack_sample_iter)).replace('\\n',\"\").replace(\"   \",\"\"))"
   ]
  },
  {
   "cell_type": "markdown",
   "metadata": {},
   "source": [
    "### Attack Model"
   ]
  },
  {
   "cell_type": "markdown",
   "metadata": {},
   "source": [
    "Simple Model"
   ]
  },
  {
   "cell_type": "code",
   "execution_count": null,
   "metadata": {},
   "outputs": [],
   "source": [
    "class SmallAttackNN(nn.Module):\n",
    "    def __init__(self):\n",
    "        super(SmallAttackNN, self).__init__()\n",
    "        self.fc1 = nn.Linear(3, 32)\n",
    "        self.fc2 = nn.Linear(32, 1)\n",
    "       \n",
    "\n",
    "    def forward(self, x):\n",
    "        \n",
    "        x = torch.sigmoid(self.fc2(self.fc1(x)))\n",
    "        return x"
   ]
  },
  {
   "cell_type": "markdown",
   "metadata": {},
   "source": [
    "Middle Size Model"
   ]
  },
  {
   "cell_type": "code",
   "execution_count": null,
   "metadata": {},
   "outputs": [],
   "source": [
    "class MiddleAttackNN(nn.Module):\n",
    "    def __init__(self):\n",
    "        super(MiddleAttackNN, self).__init__()\n",
    "        self.fc1 = nn.Linear(3, 32)\n",
    "        self.bn1 = nn.BatchNorm1d(32)\n",
    "        self.fc2 = nn.Linear(32, 64)\n",
    "        self.bn2 = nn.BatchNorm1d(64)\n",
    "        self.fc3 = nn.Linear(64, 32)\n",
    "        self.bn3 = nn.BatchNorm1d(32)\n",
    "        self.fc4 = nn.Linear(32, 16)\n",
    "        self.bn4 = nn.BatchNorm1d(16)\n",
    "        self.fc5 = nn.Linear(16, 8)\n",
    "        self.bn5 = nn.BatchNorm1d(8)\n",
    "        self.fc6 = nn.Linear(8, 1)\n",
    "        self.dropout = nn.Dropout(0.5)\n",
    "        self.sigmoid = nn.Sigmoid()\n",
    "       \n",
    "\n",
    "    def forward(self, x):\n",
    "        x = torch.relu(self.bn1(self.fc1(x)))\n",
    "        x = torch.relu(self.bn2(self.fc2(x)))\n",
    "        x = torch.relu(self.bn3(self.fc3(x)))\n",
    "        x = torch.relu(self.bn4(self.fc4(x)))\n",
    "        x = self.dropout(torch.relu(self.bn5(self.fc5(x))))\n",
    "        x = self.sigmoid(self.fc6(x))\n",
    "        return x"
   ]
  },
  {
   "cell_type": "markdown",
   "metadata": {},
   "source": [
    "Load Target Model"
   ]
  },
  {
   "cell_type": "code",
   "execution_count": null,
   "metadata": {},
   "outputs": [],
   "source": [
    "# Load target model\n",
    "target_model = MODEL_MODULE(weights=None,num_classes=DATASET_ENUM.value)\n",
    "target_model.load_state_dict (torch.load (TARGET_MODEL_PATH, map_location=DEVICE)[\"net\"])\n",
    "target_model.eval()\n",
    "target_model.to(DEVICE)\n",
    "pass"
   ]
  },
  {
   "cell_type": "markdown",
   "metadata": {},
   "source": [
    "### Evaluation Dataset"
   ]
  },
  {
   "cell_type": "markdown",
   "metadata": {},
   "source": [
    "Load **Evaluation Dataset** & get Posteriors/ Member Labels "
   ]
  },
  {
   "cell_type": "code",
   "execution_count": null,
   "metadata": {},
   "outputs": [
    {
     "name": "stdout",
     "output_type": "stream",
     "text": [
      "------SAMPLE WINDOW---------------------------------------------------------\n",
      "Number Samples: 200\n",
      "Batchsize: 1\n",
      "Inputs:tensor([[[[0.3373, 0.3765, 0.3843,  ..., 0.2078, 0.2118, 0.2235], [0.4392, 0.5412, 0.5059,  ..., 0.2510, 0.2549, 0.2235], [0.4275, 0.4510, 0.4471,  ..., 0.2627, 0.2549, 0.2314], ..., [0.5373, 0.5647, 0.5529,  ..., 0.3490, 0.2745, 0.1765], [0.4157, 0.4353, 0.4549,  ..., 0.1608, 0.0941, 0.0745], [0.3882, 0.4000, 0.3961,  ..., 0.0627, 0.0627, 0.0627]],[[0.3765, 0.4314, 0.4314,  ..., 0.3412, 0.3333, 0.3490], [0.5529, 0.6784, 0.6275,  ..., 0.4039, 0.4157, 0.3804], [0.5059, 0.5569, 0.5765,  ..., 0.4235, 0.4118, 0.3843], ..., [0.6627, 0.7059, 0.7059,  ..., 0.3843, 0.2902, 0.1843], [0.4824, 0.5137, 0.5373,  ..., 0.1843, 0.1098, 0.0824], [0.4431, 0.4627, 0.4627,  ..., 0.0745, 0.0745, 0.0745]],[[0.1882, 0.2157, 0.2549,  ..., 0.4980, 0.4941, 0.5176], [0.1882, 0.2941, 0.2745,  ..., 0.5647, 0.5882, 0.5490], [0.3804, 0.2941, 0.2353,  ..., 0.5843, 0.5804, 0.5569], ..., [0.7765, 0.8314, 0.8392,  ..., 0.3882, 0.3020, 0.2196], [0.5569, 0.5922, 0.6196,  ..., 0.1922, 0.1412, 0.1216], [0.4980, 0.5255, 0.5255,  ..., 0.0980, 0.1020, 0.0980]]]], device='cuda:0')\n",
      "Labels:tensor([1])\n",
      "Outputs:tensor([[-1.9433, -1.1742,0.4971, -0.6866, -1.4221,8.2969,0.3079, -0.9081, -1.6927, -1.2714]], device='cuda:0')\n",
      "Top Sigmoids: tensor([[8.2969, 0.4971, 0.3079]])\n",
      "---------------------------------------------------------------------------\n"
     ]
    }
   ],
   "source": [
    "with open(EVALUATE_DATA_PATH, \"rb\") as eval_f:\n",
    "    eval_dataset = pickle.load(eval_f)\n",
    "    # Create Posteriors with target model; MULTI_WORKERS_N defines workers num of returned DL\n",
    "    attack_eval_post_loader = create_eval_post_loader (target_model, eval_dataset, MULTI_WORKERS_N, DEVICE)"
   ]
  },
  {
   "cell_type": "markdown",
   "metadata": {},
   "source": [
    "Attack Evaluation DL Sample"
   ]
  },
  {
   "cell_type": "code",
   "execution_count": null,
   "metadata": {},
   "outputs": [
    {
     "name": "stdout",
     "output_type": "stream",
     "text": [
      "[tensor([[[ 8.2969e+00,  4.9705e-01,  3.0791e-01]],  [[ 1.0034e+01, -5.1437e-01, -6.1488e-01]],  [[ 9.3802e+00,  4.1555e-01, -4.3127e-01]],  [[ 1.0471e+01, -8.2182e-02, -4.2400e-01]],  [[ 9.2651e+00,  4.1612e-02,  2.7437e-02]],  [[ 9.0344e+00,  5.6719e-01, -8.2624e-01]],  [[ 7.8524e+00,  4.1818e-01, -1.2401e-01]],  [[ 9.0963e+00,  4.6028e-01, -6.6548e-02]],  [[ 9.3732e+00,  8.5999e-02, -3.7518e-01]],  [[ 8.2181e+00,  6.9449e-01,  4.7225e-01]],  [[ 9.8387e+00,  5.3789e-01,  1.6403e-01]],  [[ 1.1495e+01, -4.4880e-01, -5.2808e-01]],  [[ 8.1442e+00,  6.3936e-02, -5.5746e-01]],  [[ 8.8131e+00, -5.3464e-02, -5.1176e-01]],  [[ 8.9089e+00, -2.0440e-01, -2.7369e-01]],  [[ 8.3238e+00,  3.2423e-01, -2.2219e-01]],  [[ 9.1166e+00,  6.2863e-01, -3.0783e-01]],  [[ 1.0020e+01,  3.4747e-01, -5.6266e-01]],  [[ 8.7493e+00,  2.3795e-01,  1.7270e-01]],  [[ 9.6765e+00, -3.6445e-02, -4.0399e-01]],  [[ 9.6246e+00,  8.5195e-01, -1.9971e-01]],  [[ 9.2846e+00,  1.2553e-01, -2.5514e-01]],  [[ 1.0460e+01,  1.0478e-01, -1.6134e-01]],  [[ 8.5832e+00,  3.2124e-01, -4.9637e-01]],  [[ 8.1409e+00,  2.3821e-01, -9.2739e-03]],  [[ 9.9100e+00,  4.3960e-02,  3.6653e-02]],  [[ 9.3552e+00, -4.3756e-01, -5.3540e-01]],  [[ 8.7194e+00,  4.5868e-01,  4.1245e-01]],  [[ 9.4652e+00,  1.3372e+00,  6.4409e-02]],  [[ 8.3109e+00, -1.5210e-01, -2.1405e-01]],  [[ 8.0714e+00,  2.5284e-01, -1.6613e-01]],  [[ 1.1453e+01, -6.2643e-01, -6.9721e-01]],  [[ 9.8559e+00,  1.2330e-01, -4.1101e-01]],  [[ 9.5730e+00,  4.2566e-02, -3.7605e-01]],  [[ 8.6608e+00,  5.3186e-02, -9.5305e-03]],  [[ 9.1432e+00,  2.2980e-01, -3.0638e-01]],  [[ 7.9048e+00,  3.2407e-01, -1.5597e-01]],  [[ 8.1802e+00,  5.2042e-01,  8.7030e-02]],  [[ 9.4170e+00,  1.9315e-01, -3.2247e-01]],  [[ 8.6541e+00,  8.8634e-01,  1.0275e-01]],  [[ 8.9798e+00, -1.0770e-01, -1.9340e-01]],  [[ 1.0756e+01, -1.1794e-01, -4.5334e-01]],  [[ 9.4795e+00,  2.9165e-01, -6.4179e-01]],  [[ 8.1291e+00,  7.4221e-01, -3.1900e-01]],  [[ 8.4123e+00, -1.8307e-01, -2.0903e-01]],  [[ 9.8370e+00, -2.5845e-01, -5.9925e-01]],  [[ 8.1449e+00,  3.1613e-01, -1.6276e-01]],  [[ 8.6418e+00, -8.9780e-02, -2.0108e-01]],  [[ 1.0005e+01,  6.8423e-01, -8.1925e-01]],  [[ 1.0313e+01,  2.9802e-01,  9.1087e-02]],  [[ 9.6498e+00,  7.8123e-01, -4.1193e-01]],  [[ 9.1865e+00,  3.0514e-01, -1.3273e-01]],  [[ 9.1933e+00,  6.2347e-01, -1.8149e-01]],  [[ 9.3354e+00, -2.2945e-01, -4.4423e-01]],  [[ 1.0232e+01, -4.5743e-01, -5.1422e-01]],  [[ 1.0014e+01,  1.4036e+00, -3.8327e-01]],  [[ 1.0852e+01,  8.0264e-01, -8.0210e-01]],  [[ 7.9842e+00,  8.5019e-01,  3.4083e-01]],  [[ 8.8711e+00,  2.2186e-01, -3.3545e-01]],  [[ 8.0558e+00,  2.9242e-01, -8.3776e-02]],  [[ 9.4946e+00, -1.1602e-03, -3.0029e-01]],  [[ 9.3655e+00,  2.7419e-02, -6.4748e-01]],  [[ 1.0147e+01, -2.3023e-01, -2.6049e-01]],  [[ 9.8617e+00,  5.6062e-01, -2.9246e-01]]]), tensor([1, 1, 1, 1, 1, 1, 1, 1, 1, 1, 1, 1, 1, 1, 1, 1, 1, 1, 1, 1, 1, 1, 1, 1,  1, 1, 1, 1, 1, 1, 1, 1, 1, 1, 1, 1, 1, 1, 1, 1, 1, 1, 1, 1, 1, 1, 1, 1,  1, 1, 1, 1, 1, 1, 1, 1, 1, 1, 1, 1, 1, 1, 1, 1])]\n"
     ]
    }
   ],
   "source": [
    "eval_sample_iter = iter(attack_eval_post_loader)\n",
    "print (str(next(eval_sample_iter)).replace('\\n',\"\").replace(\"   \",\"\"))"
   ]
  },
  {
   "cell_type": "markdown",
   "metadata": {},
   "source": [
    "### Train Attack model"
   ]
  },
  {
   "cell_type": "code",
   "execution_count": null,
   "metadata": {},
   "outputs": [
    {
     "name": "stdout",
     "output_type": "stream",
     "text": [
      "Epoch: 1\n",
      "------SAMPLE WINDOW---------------------------------------------------------\n",
      "Number Samples: 30000\n",
      "Batchsize: 64\n",
      "Inputs:tensor([[[ 1.5482e+01, -1.1628e+00, -1.8282e+00]],  [[ 1.1281e+01,  3.8217e+00, -1.9052e+00]],  [[ 1.2290e+01,  9.8166e-01, -1.2734e+00]],  [[ 6.6359e+00,  4.1631e-01,  2.3707e-01]],  [[ 3.7553e+00,  1.1720e+00,  5.5990e-01]],  [[ 1.1729e+01, -4.6245e-01, -7.9813e-01]],  [[ 7.5011e+00,  1.5680e+00,  8.9420e-01]],  [[ 6.1661e+00,  1.0230e+00, -3.3113e-01]],  [[ 8.7063e+00,  6.9468e+00, -2.2595e+00]],  [[ 3.4986e+00,  1.7438e+00,  5.7986e-02]],  [[ 2.4196e+00,  1.7815e+00,  1.6315e+00]],  [[ 4.3901e+00,  1.9657e+00,  4.9074e-01]],  [[ 9.1401e+00,  6.6314e+00, -2.2974e+00]],  [[ 6.3961e+00,  6.7163e-02, -1.0543e-01]],  [[ 5.2773e+00,  1.6130e+00, -4.4109e-01]],  [[ 1.3451e+01, -1.9795e+00, -2.1000e+00]],  [[ 9.4836e+00,  4.7044e+00, -6.5308e-01]],  [[ 4.4989e+00,  2.2623e+00,  1.7637e+00]],  [[ 4.1425e+00,  3.5118e+00, -9.0276e-02]],  [[ 9.5909e+00,  7.2572e+00, -7.2824e-01]],  [[ 7.8233e+00,  5.1066e-02, -9.0006e-02]],  [[ 1.0760e+01,  4.2228e-01, -1.9005e+00]],  [[ 9.1159e+00,  1.5558e+00, -2.4666e-01]],  [[ 9.9832e+00,  1.1581e+00, -1.7028e-01]],  [[ 1.2865e+01,  1.3739e+00, -2.2126e+00]],  [[ 7.5700e+00,  3.2569e-01, -1.1378e+00]],  [[ 8.3728e+00,  6.3660e+00, -8.3702e-01]],  [[ 2.3691e+00,  2.2124e+00,  1.3115e+00]],  [[ 4.4945e+00,  4.2453e+00,  7.5992e-01]],  [[ 1.2150e+01, -4.2827e-01, -1.8082e+00]],  [[ 5.5853e+00, -1.2443e-01, -1.4184e+00]],  [[ 1.6991e+01, -3.0172e-02, -3.2150e+00]],  [[ 4.4356e+00,  4.0751e+00,  1.7806e-01]],  [[ 7.6764e+00,  3.4352e+00, -7.7039e-01]],  [[ 1.3372e+01,  2.4790e+00, -2.0300e+00]],  [[ 2.0500e+01,  3.2428e-02, -3.0529e+00]],  [[ 9.3667e+00,  2.5320e+00, -1.2424e+00]],  [[ 1.2211e+01,  3.4174e+00,  1.1679e-01]],  [[ 2.5175e+00,  2.4618e+00,  8.9358e-01]],  [[ 6.5532e+00,  2.9682e-01,  1.1820e-01]],  [[ 8.0463e+00,  3.1117e+00,  1.8878e-01]],  [[ 7.6676e+00,  5.7005e+00, -8.3688e-01]],  [[ 5.7153e+00,  3.7710e+00, -6.2277e-01]],  [[ 7.0233e+00,  2.2546e+00, -8.9990e-01]],  [[ 1.2109e+01,  8.3050e-01, -1.8384e+00]],  [[ 9.3411e+00,  2.2265e-01,  1.8357e-01]],  [[ 1.2561e+01,  9.1583e-01, -1.6094e+00]],  [[ 4.4107e+00,  5.1688e-01, -1.6237e-01]],  [[ 6.5581e+00,  4.3424e+00, -1.8474e+00]],  [[ 5.6918e+00,  2.1171e+00,  1.7286e+00]],  [[ 8.1703e-01,  6.3167e-01,  2.3175e-01]],  [[ 8.6344e+00, -4.1065e-01, -4.1463e-01]],  [[ 6.4671e+00,  4.0437e+00, -4.9662e-01]],  [[ 1.2173e+01,  7.2401e+00, -1.2763e-01]],  [[ 3.9877e+00,  3.5364e+00,  1.5914e+00]],  [[ 8.5363e+00,  3.4813e+00, -1.1972e-03]],  [[ 1.4722e+01, -7.3414e-01, -8.6382e-01]],  [[ 6.2862e+00,  1.9923e+00,  1.2923e+00]],  [[ 9.5909e+00,  3.1535e+00, -1.6957e+00]],  [[ 3.7594e+00,  1.2471e+00, -1.0183e+00]],  [[ 4.2471e+00,  3.7986e+00,  3.4040e+00]],  [[ 8.6121e+00,  5.3680e+00, -4.7217e-01]],  [[ 9.6780e+00,  1.4073e+00,  3.4392e-01]],  [[ 2.0729e+01, -2.6713e+00, -3.5255e+00]]], device='cuda:0')\n",
      "Labels:tensor([[0.],[1.],[1.],[1.],[1.],[1.],[1.],[1.],[0.],[1.],[0.],[0.],[0.],[1.],[0.],[1.],[1.],[0.],[1.],[0.],[1.],[1.],[1.],[1.],[1.],[1.],[0.],[0.],[1.],[0.],[0.],[0.],[1.],[1.],[0.],[0.],[1.],[1.],[0.],[0.],[1.],[0.],[1.],[0.],[0.],[0.],[1.],[1.],[0.],[0.],[1.],[1.],[1.],[0.],[0.],[1.],[1.],[0.],[1.],[0.],[0.],[1.],[0.],[0.]], device='cuda:0')\n",
      "Outputs:tensor([[0.],[0.],[0.],[0.],[0.],[1.],[0.],[0.],[0.],[0.],[0.],[0.],[0.],[0.],[0.],[1.],[0.],[0.],[0.],[0.],[0.],[0.],[0.],[0.],[0.],[1.],[1.],[0.],[0.],[0.],[0.],[0.],[0.],[0.],[0.],[1.],[0.],[0.],[0.],[1.],[0.],[0.],[0.],[0.],[1.],[0.],[0.],[0.],[0.],[0.],[0.],[0.],[0.],[0.],[0.],[0.],[1.],[0.],[0.],[0.],[1.],[0.],[0.],[0.]], device='cuda:0', grad_fn=<RoundBackward0>)\n",
      "Loss:54.6875\n",
      "---------------------------------------------------------------------------\n",
      "Epoch Loss: 48.62333333740234\n",
      "Accuracy: 28.56\n",
      "Epoch: 2\n",
      "Epoch Loss: 48.66333333536784\n",
      "Accuracy: 28.56\n",
      "Epoch: 3\n",
      "Epoch Loss: 48.223333337402345\n",
      "Accuracy: 28.56\n",
      "----------^^^^\n",
      "Finished Training!\n",
      "Saving model state dictionary to path attack_models/attack_resnet_cifar.pth!\n"
     ]
    }
   ],
   "source": [
    "attack_model = MiddleAttackNN()\n",
    "attack_model.to(DEVICE)\n",
    "# Further training Parameters \n",
    "criterion = nn.BCELoss()\n",
    "optimizer = optim.Adam(attack_model.parameters(), lr=LEARNING_R)\n",
    "# Do everything in one function\n",
    "# Train/ Load Attack model; For every epoch show epoch loss and evaluate\n",
    "train_or_load_and_eval_atck_model(attack_model, attack_train_loader, attack_eval_post_loader, optimizer, criterion, EPOCHS, ATTACK_MODEL_PATH, DEVICE)\n"
   ]
  },
  {
   "cell_type": "markdown",
   "metadata": {},
   "source": [
    "### Evaluation"
   ]
  },
  {
   "cell_type": "code",
   "execution_count": null,
   "metadata": {},
   "outputs": [
    {
     "name": "stdout",
     "output_type": "stream",
     "text": [
      "Accuracy: 28.56\n"
     ]
    }
   ],
   "source": [
    "evaluate_attack_model(attack_model, attack_eval_post_loader, DEVICE)"
   ]
  },
  {
   "cell_type": "code",
   "execution_count": null,
   "metadata": {},
   "outputs": [],
   "source": []
  }
 ],
 "metadata": {
  "kernelspec": {
   "display_name": "Python 3",
   "language": "python",
   "name": "python3"
  },
  "language_info": {
   "codemirror_mode": {
    "name": "ipython",
    "version": 3
   },
   "file_extension": ".py",
   "mimetype": "text/x-python",
   "name": "python",
   "nbconvert_exporter": "python",
   "pygments_lexer": "ipython3",
   "version": "3.11.8"
  }
 },
 "nbformat": 4,
 "nbformat_minor": 2
}
