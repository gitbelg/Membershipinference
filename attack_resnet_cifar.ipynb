{
 "cells": [
  {
   "cell_type": "code",
   "execution_count": 2,
   "metadata": {},
   "outputs": [],
   "source": [
    "import torch\n",
    "import torch.optim as optim\n",
    "import torch.nn as nn\n",
    "from torch.utils.data import DataLoader\n",
    "from torchvision.models import resnet34\n",
    "import pickle\n",
    "from sklearn.model_selection import train_test_split\n",
    "from helper_functions import train_or_load_and_eval_atck_model, create_eval_post_loader, create_shadow_post_train_loader, evaluate_attack_model, DatasetClassN"
   ]
  },
  {
   "cell_type": "markdown",
   "metadata": {},
   "source": [
    "Parameters"
   ]
  },
  {
   "cell_type": "code",
   "execution_count": 3,
   "metadata": {},
   "outputs": [],
   "source": [
    "# TODO: FILL IN PARAMETERS\n",
    "# Model Parameter\n",
    "model = \"resnet34\"\n",
    "model_short = \"resnet\"\n",
    "MODEL_MODULE = resnet34\n",
    "# Dataset parameter\n",
    "dataset = \"cifar10\"\n",
    "dataset_short = \"cifar\"\n",
    "DATASET_ENUM = DatasetClassN.Cifar\n",
    "\n",
    "## Attack model training parameters\n",
    "LEARNING_R = 0.001\n",
    "EPOCHS = 3\n",
    "MULTI_WORKERS_N = 4\n",
    "\n",
    "## Datasets\n",
    "SHADOW_DATA_PATH = f\"pickle/{dataset}/{model}/shadow.p\"\n",
    "EVALUATE_DATA_PATH = f\"pickle/{dataset}/{model}/eval.p\"\n",
    "# Save Dset create for attack model training\n",
    "ATT_TRAIN_DATA_PATH = f\"pickle/{dataset}/{model}/attack_train.p\"\n",
    "## Models\n",
    "SHADOW_MODEL_PATH = f\"shadow_models/{model}_shadow_{dataset_short}_overtrained.pth\"\n",
    "TARGET_MODEL_PATH = f\"models/{model}_{dataset}.pth\"\n",
    "ATTACK_MODEL_PATH = f\"attack_models/attack_{model_short}_{dataset_short}.pth\"\n",
    "\n",
    "DEVICE=torch.device(\"cuda:0\" if torch.cuda.is_available() else \"cpu\")"
   ]
  },
  {
   "cell_type": "markdown",
   "metadata": {},
   "source": [
    "### Shadow Model"
   ]
  },
  {
   "cell_type": "markdown",
   "metadata": {},
   "source": [
    "Shadow Model"
   ]
  },
  {
   "cell_type": "code",
   "execution_count": 4,
   "metadata": {},
   "outputs": [],
   "source": [
    "#load the shadow model trained in the other python script\n",
    "shadow_model = MODEL_MODULE(weights=None,num_classes=DATASET_ENUM.value).to(DEVICE) #resnet_target is the shadow model\n",
    "shadow_model.load_state_dict(torch.load(SHADOW_MODEL_PATH, map_location=DEVICE))\n",
    "pass"
   ]
  },
  {
   "cell_type": "markdown",
   "metadata": {},
   "source": [
    "Shadow dataset"
   ]
  },
  {
   "cell_type": "code",
   "execution_count": 5,
   "metadata": {},
   "outputs": [],
   "source": [
    "with open(SHADOW_DATA_PATH, \"rb\") as f:\n",
    "    dataset = pickle.load(f)\n",
    "    \n",
    "shadow_memb_data, shadow_non_memb_data = train_test_split(dataset, test_size=(1-0.5),shuffle=False)\n",
    "  \n",
    "shadow_membloader = DataLoader(shadow_memb_data, batch_size=1, shuffle=False, num_workers=1)\n",
    "shadow_non_membloader =  DataLoader(shadow_non_memb_data, batch_size=1, shuffle=True, num_workers=1)\n"
   ]
  },
  {
   "cell_type": "markdown",
   "metadata": {},
   "source": [
    "### Attack Training Dataset"
   ]
  },
  {
   "cell_type": "markdown",
   "metadata": {},
   "source": [
    "Create Attack model training dataset"
   ]
  },
  {
   "cell_type": "code",
   "execution_count": 6,
   "metadata": {},
   "outputs": [
    {
     "name": "stdout",
     "output_type": "stream",
     "text": [
      "Attack dataset was already established previosly, loading dataset from \"pickle/cifar10/resnet34/attack_train.p\".\n"
     ]
    }
   ],
   "source": [
    "attack_train_loader = create_shadow_post_train_loader(shadow_non_membloader, shadow_membloader, shadow_model, batch_size=64, \\\n",
    "    multi_n= MULTI_WORKERS_N, device=DEVICE, save_path=ATT_TRAIN_DATA_PATH, standardize=True)"
   ]
  },
  {
   "cell_type": "code",
   "execution_count": 7,
   "metadata": {},
   "outputs": [
    {
     "name": "stdout",
     "output_type": "stream",
     "text": [
      "[tensor([[[ 2.7610,  1.5855,  1.0994]],  [[ 3.6989,  0.6983, -0.1858]],  [[10.9323,  0.6241, -1.9186]],  [[ 8.2997,  1.8134, -1.3457]],  [[ 6.8367,  1.1840,  0.3727]],  [[ 6.0857,  1.5329,  0.7576]],  [[ 6.4071,  1.6038, -0.8482]],  [[ 7.3147,  6.2227,  1.0931]],  [[ 4.8549,  1.4512, -0.4886]],  [[ 4.7426,  4.6196,  2.3844]],  [[10.3158,  2.3646,  0.1576]],  [[ 4.8396,  1.6346,  1.3971]],  [[ 4.9852,  1.6474, -0.4738]],  [[14.1636, -1.2570, -2.5510]],  [[ 7.3456,  3.6341,  1.0219]],  [[ 6.1835,  1.0170,  0.5863]],  [[ 6.3865,  3.7981, -0.3039]],  [[ 4.5035,  4.1631,  0.3921]],  [[ 5.8886,  4.4171,  2.7559]],  [[10.2302, -1.6795, -2.3491]],  [[ 5.6295,  3.4255,  1.4393]],  [[ 4.5133,  1.8663,  1.8542]],  [[11.4608,  2.8926, -0.6610]],  [[ 5.2633,  4.3472, -0.9264]],  [[ 7.8379,  1.6665,  1.3011]],  [[10.1063,  1.5136,  1.4417]],  [[ 4.1329,  2.1567,  0.6392]],  [[10.1602,  3.8488,  1.4402]],  [[ 8.3354,  1.8722, -1.1975]],  [[ 3.6238,  2.2319,  0.5668]],  [[ 9.0621,  0.2615,  0.1875]],  [[ 6.6131,  6.2123,  0.8668]],  [[ 4.9849,  3.0828, -0.7375]],  [[ 7.8834,  3.2347, -1.3136]],  [[ 3.5137,  3.4642,  1.8572]],  [[ 5.0255,  3.2635,  2.9174]],  [[ 8.5443,  6.2669, -0.1889]],  [[ 2.4903,  1.5666,  1.2058]],  [[11.4512,  1.0058, -2.0125]],  [[11.3787,  0.3606,  0.3606]],  [[ 9.9525,  3.3394, -0.0791]],  [[ 6.1720,  2.0024,  1.4176]],  [[ 9.3346, -1.1748, -1.3015]],  [[ 3.7038,  1.9975,  1.3817]],  [[ 6.4486,  0.9852, -0.6958]],  [[ 4.3862,  1.8935,  1.5439]],  [[ 9.6836,  1.6509, -0.7734]],  [[17.1892, -4.9635, -6.2581]],  [[10.8684,  0.5675, -3.7077]],  [[ 6.5517,  1.7490,  1.1835]],  [[11.5537,  0.7355,  0.2635]],  [[ 3.6025,  2.5374,  1.9871]],  [[ 4.3015,  0.1439,  0.0480]],  [[ 8.2684,  5.1156, -1.0781]],  [[14.2223,  5.2520, -2.2016]],  [[ 8.0269,  1.3986,  0.2590]],  [[ 2.3056,  2.2663,  0.6898]],  [[ 4.7643,  4.5353,  0.4680]],  [[ 6.5682,  1.1109,  0.0418]],  [[ 7.2010,  1.7436, -1.4387]],  [[ 4.4732,  3.6926,  0.6698]],  [[ 6.5759,  1.5738,  1.4790]],  [[ 8.1212,  3.1007,  0.3938]],  [[ 8.1663, -0.5464, -0.7164]]]), tensor([0, 0, 0, 0, 0, 0, 0, 0, 0, 1, 1, 1, 1, 0, 0, 1, 0, 0, 0, 0, 0, 1, 1, 0,  0, 1, 0, 1, 1, 0, 1, 0, 1, 1, 0, 0, 1, 0, 0, 0, 0, 0, 0, 1, 0, 0, 0, 1,  1, 0, 0, 0, 1, 1, 0, 0, 0, 1, 0, 1, 1, 1, 1, 0])]\n"
     ]
    }
   ],
   "source": [
    "attack_sample_iter = iter(attack_train_loader)\n",
    "print (str(next(attack_sample_iter)).replace('\\n',\"\").replace(\"   \",\"\"))"
   ]
  },
  {
   "cell_type": "markdown",
   "metadata": {},
   "source": [
    "### Attack Model"
   ]
  },
  {
   "cell_type": "markdown",
   "metadata": {},
   "source": [
    "Simple Model"
   ]
  },
  {
   "cell_type": "code",
   "execution_count": 8,
   "metadata": {},
   "outputs": [],
   "source": [
    "class SmallAttackNN(nn.Module):\n",
    "    def __init__(self):\n",
    "        super(SmallAttackNN, self).__init__()\n",
    "        self.fc1 = nn.Linear(3, 32)\n",
    "        self.fc2 = nn.Linear(32, 1)\n",
    "       \n",
    "\n",
    "    def forward(self, x):\n",
    "        \n",
    "        x = torch.sigmoid(self.fc2(self.fc1(x)))\n",
    "        return x"
   ]
  },
  {
   "cell_type": "markdown",
   "metadata": {},
   "source": [
    "Middle Size Model"
   ]
  },
  {
   "cell_type": "code",
   "execution_count": 9,
   "metadata": {},
   "outputs": [],
   "source": [
    "class MiddleAttackNN(nn.Module):\n",
    "    def __init__(self):\n",
    "        super(MiddleAttackNN, self).__init__()\n",
    "        self.fc1 = nn.Linear(3, 32)\n",
    "        self.bn1 = nn.BatchNorm1d(32)\n",
    "        self.fc2 = nn.Linear(32, 64)\n",
    "        self.bn2 = nn.BatchNorm1d(64)\n",
    "        self.fc3 = nn.Linear(64, 32)\n",
    "        self.bn3 = nn.BatchNorm1d(32)\n",
    "        self.fc4 = nn.Linear(32, 16)\n",
    "        self.bn4 = nn.BatchNorm1d(16)\n",
    "        self.fc5 = nn.Linear(16, 8)\n",
    "        self.bn5 = nn.BatchNorm1d(8)\n",
    "        self.fc6 = nn.Linear(8, 1)\n",
    "        self.dropout = nn.Dropout(0.5)\n",
    "        self.sigmoid = nn.Sigmoid()\n",
    "       \n",
    "\n",
    "    def forward(self, x):\n",
    "        x = torch.relu(self.bn1(self.fc1(x)))\n",
    "        x = torch.relu(self.bn2(self.fc2(x)))\n",
    "        x = torch.relu(self.bn3(self.fc3(x)))\n",
    "        x = torch.relu(self.bn4(self.fc4(x)))\n",
    "        x = self.dropout(torch.relu(self.bn5(self.fc5(x))))\n",
    "        x = self.sigmoid(self.fc6(x))\n",
    "        return x"
   ]
  },
  {
   "cell_type": "markdown",
   "metadata": {},
   "source": [
    "Load Target Model"
   ]
  },
  {
   "cell_type": "code",
   "execution_count": 10,
   "metadata": {},
   "outputs": [],
   "source": [
    "# Load target model\n",
    "target_model = MODEL_MODULE(weights=None,num_classes=DATASET_ENUM.value)\n",
    "target_model.load_state_dict (torch.load (TARGET_MODEL_PATH, map_location=DEVICE)[\"net\"])\n",
    "target_model.eval()\n",
    "target_model.to(DEVICE)\n",
    "pass"
   ]
  },
  {
   "cell_type": "markdown",
   "metadata": {},
   "source": [
    "### Evaluation Dataset"
   ]
  },
  {
   "cell_type": "markdown",
   "metadata": {},
   "source": [
    "Load **Evaluation Dataset** & get Posteriors/ Member Labels "
   ]
  },
  {
   "cell_type": "code",
   "execution_count": 11,
   "metadata": {},
   "outputs": [
    {
     "name": "stdout",
     "output_type": "stream",
     "text": [
      "------SAMPLE WINDOW---------------------------------------------------------\n",
      "Number Samples: 200\n",
      "Batchsize: 1\n",
      "Inputs:tensor([[[[0.3373, 0.3765, 0.3843,  ..., 0.2078, 0.2118, 0.2235], [0.4392, 0.5412, 0.5059,  ..., 0.2510, 0.2549, 0.2235], [0.4275, 0.4510, 0.4471,  ..., 0.2627, 0.2549, 0.2314], ..., [0.5373, 0.5647, 0.5529,  ..., 0.3490, 0.2745, 0.1765], [0.4157, 0.4353, 0.4549,  ..., 0.1608, 0.0941, 0.0745], [0.3882, 0.4000, 0.3961,  ..., 0.0627, 0.0627, 0.0627]],[[0.3765, 0.4314, 0.4314,  ..., 0.3412, 0.3333, 0.3490], [0.5529, 0.6784, 0.6275,  ..., 0.4039, 0.4157, 0.3804], [0.5059, 0.5569, 0.5765,  ..., 0.4235, 0.4118, 0.3843], ..., [0.6627, 0.7059, 0.7059,  ..., 0.3843, 0.2902, 0.1843], [0.4824, 0.5137, 0.5373,  ..., 0.1843, 0.1098, 0.0824], [0.4431, 0.4627, 0.4627,  ..., 0.0745, 0.0745, 0.0745]],[[0.1882, 0.2157, 0.2549,  ..., 0.4980, 0.4941, 0.5176], [0.1882, 0.2941, 0.2745,  ..., 0.5647, 0.5882, 0.5490], [0.3804, 0.2941, 0.2353,  ..., 0.5843, 0.5804, 0.5569], ..., [0.7765, 0.8314, 0.8392,  ..., 0.3882, 0.3020, 0.2196], [0.5569, 0.5922, 0.6196,  ..., 0.1922, 0.1412, 0.1216], [0.4980, 0.5255, 0.5255,  ..., 0.0980, 0.1020, 0.0980]]]], device='cuda:0')\n",
      "Labels:tensor([1])\n",
      "Outputs:tensor([[-1.9433, -1.1742,0.4971, -0.6866, -1.4221,8.2969,0.3079, -0.9081, -1.6927, -1.2714]], device='cuda:0')\n",
      "Top Sigmoids: tensor([[8.2969, 0.4971, 0.3079]])\n",
      "---------------------------------------------------------------------------\n"
     ]
    }
   ],
   "source": [
    "with open(EVALUATE_DATA_PATH, \"rb\") as eval_f:\n",
    "    eval_dataset = pickle.load(eval_f)\n",
    "    # Create Posteriors with target model; MULTI_WORKERS_N defines workers num of returned DL\n",
    "    attack_eval_post_loader = create_eval_post_loader (target_model, eval_dataset, MULTI_WORKERS_N, DEVICE, test_dataset=False, standardize=True)"
   ]
  },
  {
   "cell_type": "markdown",
   "metadata": {},
   "source": [
    "Attack Evaluation DL Sample"
   ]
  },
  {
   "cell_type": "code",
   "execution_count": 12,
   "metadata": {},
   "outputs": [
    {
     "name": "stdout",
     "output_type": "stream",
     "text": [
      "[tensor([[[ 8.2969e+00,  4.9705e-01,  3.0791e-01]],  [[ 1.0034e+01, -5.1437e-01, -6.1488e-01]],  [[ 9.3802e+00,  4.1555e-01, -4.3127e-01]],  [[ 1.0471e+01, -8.2182e-02, -4.2400e-01]],  [[ 9.2651e+00,  4.1612e-02,  2.7437e-02]],  [[ 9.0344e+00,  5.6719e-01, -8.2624e-01]],  [[ 7.8524e+00,  4.1818e-01, -1.2401e-01]],  [[ 9.0963e+00,  4.6028e-01, -6.6548e-02]],  [[ 9.3732e+00,  8.5999e-02, -3.7518e-01]],  [[ 8.2181e+00,  6.9449e-01,  4.7225e-01]],  [[ 9.8387e+00,  5.3789e-01,  1.6403e-01]],  [[ 1.1495e+01, -4.4880e-01, -5.2808e-01]],  [[ 8.1442e+00,  6.3936e-02, -5.5746e-01]],  [[ 8.8131e+00, -5.3464e-02, -5.1176e-01]],  [[ 8.9089e+00, -2.0440e-01, -2.7369e-01]],  [[ 8.3238e+00,  3.2423e-01, -2.2219e-01]],  [[ 9.1166e+00,  6.2863e-01, -3.0783e-01]],  [[ 1.0020e+01,  3.4747e-01, -5.6266e-01]],  [[ 8.7493e+00,  2.3795e-01,  1.7270e-01]],  [[ 9.6765e+00, -3.6445e-02, -4.0399e-01]],  [[ 9.6246e+00,  8.5195e-01, -1.9971e-01]],  [[ 9.2846e+00,  1.2553e-01, -2.5514e-01]],  [[ 1.0460e+01,  1.0478e-01, -1.6134e-01]],  [[ 8.5832e+00,  3.2124e-01, -4.9637e-01]],  [[ 8.1409e+00,  2.3821e-01, -9.2739e-03]],  [[ 9.9100e+00,  4.3960e-02,  3.6653e-02]],  [[ 9.3552e+00, -4.3756e-01, -5.3540e-01]],  [[ 8.7194e+00,  4.5868e-01,  4.1245e-01]],  [[ 9.4652e+00,  1.3372e+00,  6.4409e-02]],  [[ 8.3109e+00, -1.5210e-01, -2.1405e-01]],  [[ 8.0714e+00,  2.5284e-01, -1.6613e-01]],  [[ 1.1453e+01, -6.2643e-01, -6.9721e-01]],  [[ 9.8559e+00,  1.2330e-01, -4.1101e-01]],  [[ 9.5730e+00,  4.2566e-02, -3.7605e-01]],  [[ 8.6608e+00,  5.3186e-02, -9.5305e-03]],  [[ 9.1432e+00,  2.2980e-01, -3.0638e-01]],  [[ 7.9048e+00,  3.2407e-01, -1.5597e-01]],  [[ 8.1802e+00,  5.2042e-01,  8.7030e-02]],  [[ 9.4170e+00,  1.9315e-01, -3.2247e-01]],  [[ 8.6541e+00,  8.8634e-01,  1.0275e-01]],  [[ 8.9798e+00, -1.0770e-01, -1.9340e-01]],  [[ 1.0756e+01, -1.1794e-01, -4.5334e-01]],  [[ 9.4795e+00,  2.9165e-01, -6.4179e-01]],  [[ 8.1291e+00,  7.4221e-01, -3.1900e-01]],  [[ 8.4123e+00, -1.8307e-01, -2.0903e-01]],  [[ 9.8370e+00, -2.5845e-01, -5.9925e-01]],  [[ 8.1449e+00,  3.1613e-01, -1.6276e-01]],  [[ 8.6418e+00, -8.9780e-02, -2.0108e-01]],  [[ 1.0005e+01,  6.8423e-01, -8.1925e-01]],  [[ 1.0313e+01,  2.9802e-01,  9.1087e-02]],  [[ 9.6498e+00,  7.8123e-01, -4.1193e-01]],  [[ 9.1865e+00,  3.0514e-01, -1.3273e-01]],  [[ 9.1933e+00,  6.2347e-01, -1.8149e-01]],  [[ 9.3354e+00, -2.2945e-01, -4.4423e-01]],  [[ 1.0232e+01, -4.5743e-01, -5.1422e-01]],  [[ 1.0014e+01,  1.4036e+00, -3.8327e-01]],  [[ 1.0852e+01,  8.0264e-01, -8.0210e-01]],  [[ 7.9842e+00,  8.5019e-01,  3.4083e-01]],  [[ 8.8711e+00,  2.2186e-01, -3.3545e-01]],  [[ 8.0558e+00,  2.9242e-01, -8.3776e-02]],  [[ 9.4946e+00, -1.1602e-03, -3.0029e-01]],  [[ 9.3655e+00,  2.7419e-02, -6.4748e-01]],  [[ 1.0147e+01, -2.3023e-01, -2.6049e-01]],  [[ 9.8617e+00,  5.6062e-01, -2.9246e-01]]]), tensor([1, 1, 1, 1, 1, 1, 1, 1, 1, 1, 1, 1, 1, 1, 1, 1, 1, 1, 1, 1, 1, 1, 1, 1,  1, 1, 1, 1, 1, 1, 1, 1, 1, 1, 1, 1, 1, 1, 1, 1, 1, 1, 1, 1, 1, 1, 1, 1,  1, 1, 1, 1, 1, 1, 1, 1, 1, 1, 1, 1, 1, 1, 1, 1])]\n"
     ]
    }
   ],
   "source": [
    "eval_sample_iter = iter(attack_eval_post_loader)\n",
    "print (str(next(eval_sample_iter)).replace('\\n',\"\").replace(\"   \",\"\"))"
   ]
  },
  {
   "cell_type": "markdown",
   "metadata": {},
   "source": [
    "### Train Attack model"
   ]
  },
  {
   "cell_type": "code",
   "execution_count": 13,
   "metadata": {},
   "outputs": [
    {
     "name": "stdout",
     "output_type": "stream",
     "text": [
      "Attack model state dictionary already available, loading into input model from attack_models/attack_resnet_cifar.pth!\n"
     ]
    }
   ],
   "source": [
    "attack_model = MiddleAttackNN()\n",
    "attack_model.to(DEVICE)\n",
    "# Further training Parameters \n",
    "criterion = nn.BCELoss()\n",
    "optimizer = optim.Adam(attack_model.parameters(), lr=LEARNING_R)\n",
    "# Do everything in one function\n",
    "# Train/ Load Attack model; For every epoch show epoch loss and evaluate\n",
    "train_or_load_and_eval_atck_model(attack_model, attack_train_loader, attack_eval_post_loader, optimizer, criterion, EPOCHS, ATTACK_MODEL_PATH, DEVICE)\n"
   ]
  },
  {
   "cell_type": "markdown",
   "metadata": {},
   "source": [
    "### Evaluation"
   ]
  },
  {
   "cell_type": "code",
   "execution_count": 14,
   "metadata": {},
   "outputs": [
    {
     "name": "stdout",
     "output_type": "stream",
     "text": [
      "Accuracy: 28.56\n"
     ]
    }
   ],
   "source": [
    "evaluate_attack_model(attack_model, attack_eval_post_loader, DEVICE)"
   ]
  },
  {
   "cell_type": "code",
   "execution_count": null,
   "metadata": {},
   "outputs": [],
   "source": []
  }
 ],
 "metadata": {
  "kernelspec": {
   "display_name": "Python 3",
   "language": "python",
   "name": "python3"
  },
  "language_info": {
   "codemirror_mode": {
    "name": "ipython",
    "version": 3
   },
   "file_extension": ".py",
   "mimetype": "text/x-python",
   "name": "python",
   "nbconvert_exporter": "python",
   "pygments_lexer": "ipython3",
   "version": "3.11.8"
  }
 },
 "nbformat": 4,
 "nbformat_minor": 2
}
